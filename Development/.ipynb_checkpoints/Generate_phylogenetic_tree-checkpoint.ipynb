{
 "cells": [
  {
   "cell_type": "code",
   "execution_count": 1,
   "metadata": {},
   "outputs": [
    {
     "name": "stderr",
     "output_type": "stream",
     "text": [
      "Loading required package: ape\n"
     ]
    }
   ],
   "source": [
    "library(phangorn)\n",
    "library(foreach)\n",
    "library(ggplot2)"
   ]
  },
  {
   "cell_type": "code",
   "execution_count": 2,
   "metadata": {
    "collapsed": true
   },
   "outputs": [],
   "source": [
    "#install.packages(\"ggplot2\", dependencies=TRUE)"
   ]
  },
  {
   "cell_type": "code",
   "execution_count": 3,
   "metadata": {},
   "outputs": [
    {
     "data": {
      "text/html": [
       "'/Users/ieuser/Myresearch/shiny_app/Development'"
      ],
      "text/latex": [
       "'/Users/ieuser/Myresearch/shiny\\_app/Development'"
      ],
      "text/markdown": [
       "'/Users/ieuser/Myresearch/shiny_app/Development'"
      ],
      "text/plain": [
       "[1] \"/Users/ieuser/Myresearch/shiny_app/Development\""
      ]
     },
     "metadata": {},
     "output_type": "display_data"
    }
   ],
   "source": [
    "setwd(\"/Users/ieuser/Myresearch/shiny_app/Development/\")\n",
    "origin_wd <- getwd()\n",
    "path <- paste(origin_wd, \"/SpecificCSVFiles/individual\", sep=\"\")\n",
    "#path <- paste(origin_wd, \"/SpecificCSVFiles/\", sep=\"\")\n",
    "file_list <- list.files(path, pattern=\"csv\")\n",
    "fp <- paste(path, \"/\", file_list[1], sep=\"\")\n",
    "#print(file_list)\n",
    "getwd()"
   ]
  },
  {
   "cell_type": "code",
   "execution_count": 4,
   "metadata": {
    "collapsed": true
   },
   "outputs": [],
   "source": [
    "Phylogenetic_Tree <- function(dist){\n",
    "    ##系統樹の作成\n",
    "    nj.tree <- nj(dist)\n",
    "    #any()は比較要素の内1つでもTRUEがあれば1つにまとめる (True, False, True) -> True\n",
    "    if (any(nj.tree$tip.label %in% nj.tree$tip.label[1]) == TRUE){\n",
    "        reroot.nj.tree <- root(nj.tree, which(nj.tree$tip.label==nj.tree$tip.label[1]))\n",
    "        return(reroot.nj.tree)\n",
    "    }else{\n",
    "        return(nj.tree)\n",
    "    }\n",
    "}"
   ]
  },
  {
   "cell_type": "code",
   "execution_count": null,
   "metadata": {},
   "outputs": [
    {
     "name": "stdout",
     "output_type": "stream",
     "text": [
      "[1] \"130番目64-122音(1-3)\"\n",
      "[1] \"131番目65-129今 (2-2)\"\n",
      "[1] \"132番目65-129今(1-2)\"\n",
      "[1] \"133番目66-135前 (2-4)\"\n",
      "[1] \"134番目66-135前 (3-4)\"\n",
      "[1] \"135番目66-135前 (4-4)\"\n",
      "[1] \"136番目66-135前(1-4)\"\n",
      "[1] \"137番目67-137私\"\n",
      "[1] \"138番目67-137私(1-1)\"\n",
      "[1] \"139番目68-140Bこれ(1-1)\"\n",
      "[1] \"140番目68-40Bこれ\"\n",
      "[1] \"141番目69-147何\"\n",
      "[1] \"142番目69-147何(1-1)\"\n",
      "[1] \"143番目70-196一つ\"\n",
      "[1] \"144番目70-196一つ(1-1)\"\n",
      "[1] \"145番目71-197二つ\"\n",
      "[1] \"146番目71-197二つ(1-1)\"\n",
      "[1] \"147番目72-200百(1-2)\"\n"
     ]
    }
   ],
   "source": [
    "foreach(k = 130:length(file_list)) %do%{\n",
    "    filepath <- paste(path, \"/\", file_list[k], sep=\"\")\n",
    "    #nchar 文字列の長さを計算  byte長を気にする場合はtype = \"bytes\"も与える。\n",
    "    #substr(文字列, 始点, 終点) 文字列の始点から終点部分を返す\n",
    "    filename = substr(file_list[k], 1, (nchar(file_list[k])-4)) \n",
    "    print(paste(k, \"番目\", filename, sep=\"\"))\n",
    "    \n",
    "    dist <- read.table(filepath, header=T, sep=\",\", row.names=1, nrows=100, quote = \"\", check.names=TRUE)\n",
    "    if( dev.cur() > 2 ) dev.off(3)\n",
    "    #par(family = \"HiraKakuProN-W3\")\n",
    "    setwd(\"/Users/ieuser/Myresearch/shiny_app/Development/SpecificCSVFiles/tree_of_each_word\")\n",
    "    par(family=\"serif\")\n",
    "    pdf(paste(filename, \".pdf\", sep=\"\"))\n",
    "    plot(Phylogenetic_Tree(as.matrix(dist)), main=filename, type=\"p\", cex=0.3 ,use.edge.length = TRUE, tip.color=\"violetred\", direction=\"r\")\n",
    "    #plot(Phylogenetic_Tree(as.matrix(dist)), main=\"all-words\", type=\"p\", cex=0.3 ,use.edge.length = TRUE, tip.color=\"violetred\", direction=\"r\")\n",
    "    dev.off()\n",
    "    dev.off()\n",
    "    setwd(origin_wd)\n",
    "}"
   ]
  },
  {
   "cell_type": "code",
   "execution_count": 4,
   "metadata": {},
   "outputs": [
    {
     "name": "stdout",
     "output_type": "stream",
     "text": [
      "[1] \"/Users/ieuser/Myresearch/shiny_app/Development/SpecificCSVFiles/individual/01-003首 (2-2).csv\"\n",
      "[1] \"01-003首 (2-2)\"\n",
      "[1] \"1番目01-003首 (2-2)\"\n"
     ]
    }
   ],
   "source": [
    "filepath <- paste(path, \"/\", file_list[1], sep=\"\")\n",
    "print(filepath)\n",
    "#nchar 文字列の長さを計算  byte長を気にする場合はtype = \"bytes\"も与える。\n",
    "#substr(文字列, 始点, 終点) 文字列の始点から終点部分を返す\n",
    "filename = substr(file_list[1], 1, (nchar(file_list[1])-4)) \n",
    "print(filename)\n",
    "print(paste(1, \"番目\", filename, sep=\"\"))\n",
    "    \n",
    "dist <- read.table(filepath, header=T, sep=\",\", row.names=1, nrows=100, quote = \"\", check.names=TRUE)\n",
    "np_ <- nj(as.matrix(dist))\n",
    "#Phylogenetic_Tree(as.matrix(dist))\n"
   ]
  },
  {
   "cell_type": "code",
   "execution_count": 11,
   "metadata": {},
   "outputs": [
    {
     "name": "stdout",
     "output_type": "stream",
     "text": [
      "[1] \"'想定形 nubu-1i'\"\n"
     ]
    }
   ],
   "source": [
    "print(np_$tip.label[1])"
   ]
  },
  {
   "cell_type": "code",
   "execution_count": null,
   "metadata": {
    "collapsed": true
   },
   "outputs": [],
   "source": [
    "setwd(\"/Users/ieuser/Myresearch/shiny_app/Development/SpecificCSVFiles/\")\n",
    "origin_wd <- getwd()\n",
    "path <- paste(origin_wd)\n",
    "file_list <- list.files(path, pattern=\"csv\")\n",
    "print(file_list)\n",
    "fp <- paste(path, \"/\", file_list[1], sep=\"\")\n",
    "getwd()"
   ]
  },
  {
   "cell_type": "code",
   "execution_count": 13,
   "metadata": {},
   "outputs": [
    {
     "name": "stdout",
     "output_type": "stream",
     "text": [
      "[1] \"2番目distance\"\n"
     ]
    },
    {
     "data": {
      "text/html": [
       "<ol>\n",
       "\t<li>'/Users/ieuser/Myresearch/shiny_app/Development/SpecificCSVFiles'</li>\n",
       "</ol>\n"
      ],
      "text/latex": [
       "\\begin{enumerate}\n",
       "\\item '/Users/ieuser/Myresearch/shiny\\_app/Development/SpecificCSVFiles'\n",
       "\\end{enumerate}\n"
      ],
      "text/markdown": [
       "1. '/Users/ieuser/Myresearch/shiny_app/Development/SpecificCSVFiles'\n",
       "\n",
       "\n"
      ],
      "text/plain": [
       "[[1]]\n",
       "[1] \"/Users/ieuser/Myresearch/shiny_app/Development/SpecificCSVFiles\"\n"
      ]
     },
     "metadata": {},
     "output_type": "display_data"
    }
   ],
   "source": [
    "foreach(k = length(file_list)) %do%{\n",
    "    filepath <- paste(path, \"/\", file_list[k], sep=\"\")\n",
    "    #nchar 文字列の長さを計算  byte長を気にする場合はtype = \"bytes\"も与える。\n",
    "    #substr(文字列, 始点, 終点) 文字列の始点から終点部分を返す\n",
    "    filename = substr(file_list[k], 1, (nchar(file_list[k])-4)) \n",
    "    print(paste(k, \"番目\", filename, sep=\"\"))\n",
    "    \n",
    "    dist <- read.table(filepath, header=T, sep=\",\", row.names=1, nrows=100, quote = \"\", check.names=TRUE)\n",
    "    if( dev.cur() > 2 ) dev.off(3)\n",
    "    #par(family = \"HiraKakuProN-W3\")\n",
    "    setwd(\"/Users/ieuser/Myresearch/shiny_app/Development/SpecificCSVFiles/\")\n",
    "    par(family=\"serif\")\n",
    "    pdf(paste(filename, \".pdf\", sep=\"\"))\n",
    "    plot(Phylogenetic_Tree(as.matrix(dist)), main=filename, type=\"p\", cex=0.3 ,use.edge.length = TRUE, tip.color=\"violetred\")\n",
    "    dev.off()\n",
    "    dev.off()\n",
    "    setwd(origin_wd)\n",
    "}"
   ]
  },
  {
   "cell_type": "code",
   "execution_count": null,
   "metadata": {
    "collapsed": true
   },
   "outputs": [],
   "source": []
  },
  {
   "cell_type": "code",
   "execution_count": 5,
   "metadata": {},
   "outputs": [
    {
     "data": {
      "text/html": [
       "<dl>\n",
       "\t<dt>$serif</dt>\n",
       "\t\t<dd><ol class=list-inline>\n",
       "\t<li>'Hiragino Mincho Pro W3'</li>\n",
       "\t<li>'Hiragino Mincho Pro W6'</li>\n",
       "\t<li>'Hiragino Mincho Pro W3'</li>\n",
       "\t<li>'Hiragino Mincho Pro W6'</li>\n",
       "</ol>\n",
       "</dd>\n",
       "\t<dt>$sans</dt>\n",
       "\t\t<dd><ol class=list-inline>\n",
       "\t<li>'Hiragino Kaku Gothic Pro W3'</li>\n",
       "\t<li>'Hiragino Kaku Gothic Pro W6'</li>\n",
       "\t<li>'Hiragino Kaku Gothic Pro W3'</li>\n",
       "\t<li>'Hiragino Kaku Gothic Pro W6'</li>\n",
       "</ol>\n",
       "</dd>\n",
       "\t<dt>$mono</dt>\n",
       "\t\t<dd><ol class=list-inline>\n",
       "\t<li>'Courier'</li>\n",
       "\t<li>'Courier-Bold'</li>\n",
       "\t<li>'Courier-Oblique'</li>\n",
       "\t<li>'Courier-BoldOblique'</li>\n",
       "</ol>\n",
       "</dd>\n",
       "</dl>\n"
      ],
      "text/latex": [
       "\\begin{description}\n",
       "\\item[\\$serif] \\begin{enumerate*}\n",
       "\\item 'Hiragino Mincho Pro W3'\n",
       "\\item 'Hiragino Mincho Pro W6'\n",
       "\\item 'Hiragino Mincho Pro W3'\n",
       "\\item 'Hiragino Mincho Pro W6'\n",
       "\\end{enumerate*}\n",
       "\n",
       "\\item[\\$sans] \\begin{enumerate*}\n",
       "\\item 'Hiragino Kaku Gothic Pro W3'\n",
       "\\item 'Hiragino Kaku Gothic Pro W6'\n",
       "\\item 'Hiragino Kaku Gothic Pro W3'\n",
       "\\item 'Hiragino Kaku Gothic Pro W6'\n",
       "\\end{enumerate*}\n",
       "\n",
       "\\item[\\$mono] \\begin{enumerate*}\n",
       "\\item 'Courier'\n",
       "\\item 'Courier-Bold'\n",
       "\\item 'Courier-Oblique'\n",
       "\\item 'Courier-BoldOblique'\n",
       "\\end{enumerate*}\n",
       "\n",
       "\\end{description}\n"
      ],
      "text/markdown": [
       "$serif\n",
       ":   1. 'Hiragino Mincho Pro W3'\n",
       "2. 'Hiragino Mincho Pro W6'\n",
       "3. 'Hiragino Mincho Pro W3'\n",
       "4. 'Hiragino Mincho Pro W6'\n",
       "\n",
       "\n",
       "\n",
       "$sans\n",
       ":   1. 'Hiragino Kaku Gothic Pro W3'\n",
       "2. 'Hiragino Kaku Gothic Pro W6'\n",
       "3. 'Hiragino Kaku Gothic Pro W3'\n",
       "4. 'Hiragino Kaku Gothic Pro W6'\n",
       "\n",
       "\n",
       "\n",
       "$mono\n",
       ":   1. 'Courier'\n",
       "2. 'Courier-Bold'\n",
       "3. 'Courier-Oblique'\n",
       "4. 'Courier-BoldOblique'\n",
       "\n",
       "\n",
       "\n",
       "\n",
       "\n"
      ],
      "text/plain": [
       "$serif\n",
       "[1] \"Hiragino Mincho Pro W3\" \"Hiragino Mincho Pro W6\" \"Hiragino Mincho Pro W3\"\n",
       "[4] \"Hiragino Mincho Pro W6\"\n",
       "\n",
       "$sans\n",
       "[1] \"Hiragino Kaku Gothic Pro W3\" \"Hiragino Kaku Gothic Pro W6\"\n",
       "[3] \"Hiragino Kaku Gothic Pro W3\" \"Hiragino Kaku Gothic Pro W6\"\n",
       "\n",
       "$mono\n",
       "[1] \"Courier\"             \"Courier-Bold\"        \"Courier-Oblique\"    \n",
       "[4] \"Courier-BoldOblique\"\n"
      ]
     },
     "metadata": {},
     "output_type": "display_data"
    }
   ],
   "source": [
    "quartzFonts()"
   ]
  },
  {
   "cell_type": "code",
   "execution_count": 2,
   "metadata": {
    "collapsed": true
   },
   "outputs": [],
   "source": [
    "Phylogenetic_Tree <- function(dist){\n",
    "    ##系統樹の作成\n",
    "    nj.tree <- nj(dist)\n",
    "    #any()は比較要素の内1つでもTRUEがあれば1つにまとめる (True, False, True) -> True\n",
    "    if (any(nj.tree$tip.label %in% \"想定形\") == TRUE){\n",
    "        reroot.nj.tree <- root(nj.tree, which(nj.tree$tip.label==\"想定形\"))\n",
    "        return(reroot.nj.tree)\n",
    "    }else{\n",
    "        return(nj.tree)\n",
    "    }\n",
    "}"
   ]
  },
  {
   "cell_type": "code",
   "execution_count": null,
   "metadata": {
    "collapsed": true
   },
   "outputs": [],
   "source": []
  }
 ],
 "metadata": {
  "kernelspec": {
   "display_name": "R",
   "language": "R",
   "name": "ir"
  },
  "language_info": {
   "codemirror_mode": "r",
   "file_extension": ".r",
   "mimetype": "text/x-r-source",
   "name": "R",
   "pygments_lexer": "r",
   "version": "3.3.2"
  }
 },
 "nbformat": 4,
 "nbformat_minor": 2
}
