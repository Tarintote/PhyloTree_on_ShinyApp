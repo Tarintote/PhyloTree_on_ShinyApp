{
 "cells": [
  {
   "cell_type": "code",
   "execution_count": 1,
   "metadata": {
    "scrolled": true
   },
   "outputs": [],
   "source": [
    "#!/usr/bin/env python\n",
    "# -*- coding: Shift-JIS -*-\n",
    "import sys\n",
    "import os\n",
    "import pandas as pd\n",
    "import numpy as np\n",
    "import codecs\n",
    "from scipy import linalg\n",
    "\n",
    "import make_database as md\n",
    "import make_bit_frame as mbf\n",
    "import make_distance_matrix as mdm\n",
    "import generate_controler as gc\n",
    "from AIC import *\n",
    "\n",
    "import glob\n",
    "import copy\n",
    "from __future__ import division\n",
    "from multiprocessing import Pool\n",
    "import multiprocessing as multi\n",
    "from joblib import Parallel, delayed"
   ]
  },
  {
   "cell_type": "code",
   "execution_count": null,
   "metadata": {
    "collapsed": true
   },
   "outputs": [],
   "source": [
    "#fileList = glob.glob('./Storage/*.csv')\n",
    "fileList = glob.glob('./csvFileList/*.csv')\n",
    "#fileList = glob.glob(\"./SpecificCSVFiles/individual//*.csv\")\n",
    "gcc = gc.GenerateControler(fileList, \"./InputValueDB/母音入力数値一覧.csv\", \"./InputValueDB/子音入力数値一覧.csv\")"
   ]
  },
  {
   "cell_type": "raw",
   "metadata": {
    "collapsed": true
   },
   "source": [
    "filename = [(fileList[i].split(\"/\"))[-1] for i in range(len(fileList))]\n",
    "filename = [unicode(k, \"UTF-8\") for k in filename]\n",
    "filename\n",
    "\n",
    "#print(gcc.vowel.iloc[:][0])\n",
    "#gcc.cons\n",
    "for h in range(len(filename)):\n",
    "    print(\"{0}, {1}\".format(h, fileList[h]))"
   ]
  },
  {
   "cell_type": "code",
   "execution_count": null,
   "metadata": {
    "collapsed": true,
    "scrolled": true
   },
   "outputs": [],
   "source": [
    "#gcc.makeUsingFileList(\"./csvFileList/notUsingCSV.dat\")\n",
    "gcc.mainPreProccess()"
   ]
  },
  {
   "cell_type": "code",
   "execution_count": null,
   "metadata": {},
   "outputs": [],
   "source": [
    "gcc.cons"
   ]
  },
  {
   "cell_type": "code",
   "execution_count": null,
   "metadata": {},
   "outputs": [],
   "source": [
    "with codecs.open(fileList[0], \"r\", \"Shift-JIS\", \"ignore\") as files:\n",
    "    mtoshi = pd.read_table(files, delimiter=\",\")\n",
    "mbfs = mbf.MakeBitFrame(mtoshi, gcc.cons, gcc.vowel)"
   ]
  },
  {
   "cell_type": "code",
   "execution_count": null,
   "metadata": {
    "collapsed": true
   },
   "outputs": [],
   "source": [
    "with codecs.open(fileList[0], \"r\", \"Shift-JIS\", \"ignore\") as files:\n",
    "    mtoshi = pd.read_table(files, delimiter=\",\")\n",
    "mbfs = mbf.MakeBitFrame(mtoshi, gcc.cons, gcc.vowel)\n",
    "mbfs.makeFrameList()\n",
    "#mbfs.makeIndeces(index_type=0)\n",
    "#mbfs.makeIndeces(index_type=0)"
   ]
  },
  {
   "cell_type": "code",
   "execution_count": null,
   "metadata": {
    "collapsed": true
   },
   "outputs": [],
   "source": [
    "fileList = glob.glob('./csvFileList/*.csv')\n",
    "filename = [(fileList[i].split(\"/\"))[-1] for i in range(len(fileList))]\n",
    "filename = [unicode(k, \"UTF-8\") for k in filename]\n",
    "with codecs.open(fileList[69], \"r\", \"Shift-JIS\", \"ignore\") as filer:\n",
    "    init = pd.read_table(filer, delimiter=\",\")\n",
    "\n",
    "#for k in range(len(fileList)):\n",
    "for k in range(0, 1):#len(fileList)):\n",
    "    gcc = gc.GenerateControler(fileList[44], \"./InputValueDB/母音入力数値一覧.csv\", \"./InputValueDB/子音入力数値一覧.csv\")\n",
    "    gcc.mainPreProccess()\n",
    "    try:\n",
    "        gcc.oneWordFrame(init, 0)#.to_csv('./SpecificCSVFiles/individual/' + filename[k], sep=',')\n",
    "    except Exception as e:\n",
    "        print(\"ERROR\")\n",
    "        continue"
   ]
  },
  {
   "cell_type": "code",
   "execution_count": 4,
   "metadata": {},
   "outputs": [
    {
     "data": {
      "text/plain": [
       "array([['4', '4', '0', ..., '3', '2', '0'],\n",
       "       ['-9', '-9', '-9', ..., '-9', '-9', '-9'],\n",
       "       ['-9', '-9', '-9', ..., '-9', '-9', '-9'],\n",
       "       ..., \n",
       "       ['-9', '-9', '-9', ..., '-9', '-9', '-9'],\n",
       "       ['4', '4', '0', ..., '-9', '-9', '-9'],\n",
       "       ['4', '4', '0', ..., '-9', '-9', '-9']], \n",
       "      dtype='|S2')"
      ]
     },
     "execution_count": 4,
     "metadata": {},
     "output_type": "execute_result"
    }
   ],
   "source": [
    "np.array(gcc.bit_frame_list)"
   ]
  },
  {
   "cell_type": "code",
   "execution_count": 2,
   "metadata": {},
   "outputs": [
    {
     "name": "stdout",
     "output_type": "stream",
     "text": [
      "./csvFileList/01-003首 (2-2).csv\n",
      "./csvFileList/01-003首(1-2).csv\n",
      "./csvFileList/02-004顔 (2-3).csv\n",
      "./csvFileList/02-004顔 (3-3).csv\n",
      "./csvFileList/02-004顔(1-3).csv\n",
      "./csvFileList/03-005目 (1-4).csv\n",
      "./csvFileList/03-005目 (2-4).csv\n",
      "./csvFileList/03-005目 (3-4).csv\n",
      "./csvFileList/03-005目(4-4).csv\n",
      "./csvFileList/04-007鼻 (1-2).csv\n",
      "./csvFileList/04-007鼻(2-2).csv\n",
      "./csvFileList/05-009耳 (1-2).csv\n",
      "./csvFileList/05-009耳(2-2).csv\n",
      "./csvFileList/06-011歯(1-1).csv\n",
      "./csvFileList/07-013声(1-1).csv\n",
      "./csvFileList/08-014手 (1-2).csv\n",
      "./csvFileList/08-014手 (2-2).csv\n",
      "./csvFileList/09-015足 (1-5).csv\n",
      "./csvFileList/09-015足 (2-5).csv\n",
      "./csvFileList/09-015足 (3-5).csv\n",
      "./csvFileList/09-015足 (4-5).csv\n",
      "./csvFileList/09-015足(5-5).csv\n",
      "./csvFileList/10-017胸 (1-3).csv\n",
      "./csvFileList/10-017胸 (2-3).csv\n",
      "./csvFileList/10-017胸 (3-3).csv\n",
      "./csvFileList/11-017B肝(1-1).csv\n",
      "./csvFileList/12-018骨(1-1).csv\n",
      "./csvFileList/13-019皮(1-1).csv\n",
      "./csvFileList/14-021血 (1-2).csv\n",
      "./csvFileList/14-021血(2-2).csv\n",
      "./csvFileList/15-023人(1-1).csv\n",
      "./csvFileList/16-028子 (1-5).csv\n",
      "./csvFileList/16-028子 (2-5).csv\n",
      "./csvFileList/16-028子 (3-5).csv\n",
      "./csvFileList/16-028子 (4-5).csv\n",
      "./csvFileList/16-028子(5-5).csv\n",
      "./csvFileList/17-035をなり(1-1).csv\n",
      "./csvFileList/18-036ゑけり(1-1).csv\n",
      "./csvFileList/19-039夫(1-1).csv\n",
      "./csvFileList/20-040妻 (2-2).csv\n",
      "./csvFileList/20-040妻(1-2).csv\n",
      "./csvFileList/21-046馬(1-2).csv\n",
      "./csvFileList/21-046馬(2-2).csv\n",
      "./csvFileList/22-047豚(1-1).csv\n",
      "./csvFileList/23-050しっぽ (1-3).csv\n",
      "./csvFileList/23-050しっぽ (2-3).csv\n",
      "./csvFileList/23-050しっぽ(3-3).csv\n",
      "./csvFileList/24-050Bつの(1-1).csv\n",
      "./csvFileList/25-051魚(1-1).csv\n",
      "./csvFileList/26-052鳥(1-1).csv\n",
      "./csvFileList/27-061枝(1-1).csv\n",
      "./csvFileList/28-062葉(1-1).csv\n",
      "./csvFileList/29-063とげ(1-2).csv\n",
      "./csvFileList/29-063とげ(2-2).csv\n",
      "./csvFileList/30-064花(1-1).csv\n",
      "./csvFileList/31-066松 (1-2).csv\n",
      "./csvFileList/31-066松 (2-2).csv\n",
      "./csvFileList/32-071さとうきび(1-5).csv\n",
      "./csvFileList/33-073稲 (1-2).csv\n",
      "./csvFileList/33-073稲(2-2).csv\n",
      "./csvFileList/34-074B落花生(1-1).csv\n",
      "./csvFileList/35-076B門 (1-4).csv\n",
      "./csvFileList/35-076B門(2-4).csv\n",
      "./csvFileList/35-076B門(3-4).csv\n",
      "./csvFileList/35-076B門(4-4).csv\n",
      "./csvFileList/36-078ほうき(1-1).csv\n",
      "./csvFileList/37-079包丁 (1-2).csv\n",
      "./csvFileList/37-079包丁(2-2).csv\n",
      "./csvFileList/38-080水(1-1).csv\n",
      "./csvFileList/39-083いろり(1-2).csv\n",
      "./csvFileList/39-083いろり(2-2).csv\n",
      "./csvFileList/40-083B桶(1-1).csv\n",
      "./csvFileList/41-085火 (1-3).csv\n",
      "./csvFileList/41-085火 (2-3).csv\n",
      "./csvFileList/41-085火(3-3).csv\n",
      "./csvFileList/42-087煙 (1-1).csv\n",
      "./csvFileList/43-090油(1-1).csv\n",
      "./csvFileList/44-091-1味噌(1-1).csv\n",
      "./csvFileList/45-091B塩(1-1).csv\n",
      "./csvFileList/46-093茶(1-1).csv\n",
      "./csvFileList/47-095着物 (2-3).csv\n",
      "./csvFileList/47-095着物(3-3).csv\n",
      "./csvFileList/47-095着物（1-3）.csv\n",
      "./csvFileList/48-099針(1-1).csv\n",
      "./csvFileList/49-102銭 (2-2).csv\n",
      "./csvFileList/49-102銭(1-2).csv\n",
      "./csvFileList/50-100糸 （3-3）.csv\n",
      "./csvFileList/50-100糸(1-3) .csv\n",
      "./csvFileList/50-100糸（2-3）.csv\n",
      "./csvFileList/52-103鎌 (2-3).csv\n",
      "./csvFileList/52-103鎌 (3-3).csv\n",
      "./csvFileList/52-103鎌(1-3).csv\n",
      "./csvFileList/53-103B鍬 (2-7).csv\n",
      "./csvFileList/53-103B鍬 (3-7).csv\n",
      "./csvFileList/53-103B鍬 (4-7).csv\n",
      "./csvFileList/53-103B鍬 (5-7).csv\n",
      "./csvFileList/53-103B鍬 (6-7).csv\n",
      "./csvFileList/53-103B鍬 (7-7).csv\n",
      "./csvFileList/53-103B鍬(1-7).csv\n",
      "./csvFileList/54-104へら.csv\n",
      "./csvFileList/55-107田 (2-2).csv\n",
      "./csvFileList/55-107田(1-2).csv\n",
      "./csvFileList/56-110溝 (2-2).csv\n",
      "./csvFileList/56-110溝(1-2).csv\n",
      "./csvFileList/57-111海 (2-3).csv\n",
      "./csvFileList/57-111海 (3-3).csv\n",
      "./csvFileList/57-111海(1-3).csv\n",
      "./csvFileList/58-112船(1-1).csv\n",
      "./csvFileList/59-113帆 (2-2).csv\n",
      "./csvFileList/59-113帆(1-2).csv\n",
      "./csvFileList/60-116太陽(1-1).csv\n",
      "./csvFileList/61-118星(1-1).csv\n",
      "./csvFileList/62-119雲(1-1).csv\n",
      "./csvFileList/63-121風(1-1).csv\n",
      "./csvFileList/64-122音 (2-3).csv\n",
      "./csvFileList/64-122音 (3-3).csv\n",
      "./csvFileList/64-122音(1-3).csv\n",
      "./csvFileList/65-129今 (2-2).csv\n",
      "./csvFileList/65-129今(1-2).csv\n",
      "./csvFileList/66-135前 (2-4).csv\n",
      "./csvFileList/66-135前 (3-4).csv\n",
      "./csvFileList/66-135前 (4-4).csv\n",
      "./csvFileList/66-135前(1-4).csv\n",
      "./csvFileList/67-137私(1-1).csv\n",
      "./csvFileList/68-140Bこれ(1-1).csv\n",
      "./csvFileList/69-147何(1-1).csv\n",
      "./csvFileList/70-196一つ(1-1).csv\n",
      "./csvFileList/71-197二つ(1-1).csv\n",
      "./csvFileList/72-200百(1-2).csv\n",
      "./csvFileList/72-200百（2-2）.csv\n"
     ]
    },
    {
     "ename": "AttributeError",
     "evalue": "'int' object has no attribute 'index'",
     "output_type": "error",
     "traceback": [
      "\u001b[0;31m---------------------------------------------------------------------------\u001b[0m",
      "\u001b[0;31mAttributeError\u001b[0m                            Traceback (most recent call last)",
      "\u001b[0;32m<ipython-input-2-852a77e5039b>\u001b[0m in \u001b[0;36m<module>\u001b[0;34m()\u001b[0m\n\u001b[1;32m     10\u001b[0m \"\"\"\n\u001b[1;32m     11\u001b[0m \u001b[0mgcc\u001b[0m\u001b[0;34m.\u001b[0m\u001b[0msumDataFrame\u001b[0m\u001b[0;34m(\u001b[0m\u001b[0mtypes\u001b[0m\u001b[0;34m=\u001b[0m\u001b[0;36m0\u001b[0m\u001b[0;34m)\u001b[0m \u001b[0;31m#結合方法 0ならarticulation\u001b[0m\u001b[0;34m\u001b[0m\u001b[0m\n\u001b[0;32m---> 12\u001b[0;31m \u001b[0mdist\u001b[0m \u001b[0;34m=\u001b[0m \u001b[0mgcc\u001b[0m\u001b[0;34m.\u001b[0m\u001b[0mgetSumDistanceMatrix\u001b[0m\u001b[0;34m(\u001b[0m\u001b[0;36m0\u001b[0m\u001b[0;34m)\u001b[0m\u001b[0;34m\u001b[0m\u001b[0m\n\u001b[0m\u001b[1;32m     13\u001b[0m \u001b[0mdist\u001b[0m\u001b[0;34m.\u001b[0m\u001b[0mto_csv\u001b[0m\u001b[0;34m(\u001b[0m\u001b[0;34m'./SpecificCSVFiles/every_phoneme/similarity.csv'\u001b[0m\u001b[0;34m,\u001b[0m \u001b[0msep\u001b[0m\u001b[0;34m=\u001b[0m\u001b[0;34m','\u001b[0m\u001b[0;34m)\u001b[0m\u001b[0;34m\u001b[0m\u001b[0m\n",
      "\u001b[0;32m/Users/ieuser/Myresearch/shiny_app/Development/generate_controler.py\u001b[0m in \u001b[0;36mgetSumDistanceMatrix\u001b[0;34m(self, types)\u001b[0m\n\u001b[1;32m    202\u001b[0m         \u001b[0;32mif\u001b[0m \u001b[0mtypes\u001b[0m \u001b[0;34m==\u001b[0m \u001b[0;36m0\u001b[0m\u001b[0;34m:\u001b[0m\u001b[0;34m\u001b[0m\u001b[0m\n\u001b[1;32m    203\u001b[0m             \u001b[0mdata_frame\u001b[0m \u001b[0;34m=\u001b[0m \u001b[0msum\u001b[0m\u001b[0;34m(\u001b[0m\u001b[0mself\u001b[0m\u001b[0;34m.\u001b[0m\u001b[0mdata_frame_list\u001b[0m\u001b[0;34m)\u001b[0m\u001b[0;34m\u001b[0m\u001b[0m\n\u001b[0;32m--> 204\u001b[0;31m             \u001b[0mdata_frame\u001b[0m\u001b[0;34m.\u001b[0m\u001b[0mindex\u001b[0m \u001b[0;34m=\u001b[0m \u001b[0mself\u001b[0m\u001b[0;34m.\u001b[0m\u001b[0ms_name_list\u001b[0m\u001b[0;34m\u001b[0m\u001b[0m\n\u001b[0m\u001b[1;32m    205\u001b[0m             \u001b[0mdata_frame\u001b[0m\u001b[0;34m.\u001b[0m\u001b[0mcolumns\u001b[0m \u001b[0;34m=\u001b[0m \u001b[0mself\u001b[0m\u001b[0;34m.\u001b[0m\u001b[0ms_name_list\u001b[0m\u001b[0;34m\u001b[0m\u001b[0m\n\u001b[1;32m    206\u001b[0m             \u001b[0;32mreturn\u001b[0m \u001b[0mdata_frame\u001b[0m\u001b[0;34m\u001b[0m\u001b[0m\n",
      "\u001b[0;31mAttributeError\u001b[0m: 'int' object has no attribute 'index'"
     ]
    }
   ],
   "source": [
    "fileList = glob.glob('./csvFileList/*.csv')\n",
    "gcc = gc.GenerateControler(fileList[:], \"./InputValueDB/母音入力数値一覧.csv\", \"./InputValueDB/子音入力数値一覧.csv\")\n",
    "#gcc.mainPreProccess()\n",
    "\"\"\"\n",
    "try:\n",
    "    gcc.sumDataFrame(types=0) #結合方法 0ならarticulation\n",
    "    dist = gcc.getSumDistanceMatrix(0)\n",
    "except Exception as e:\n",
    "    print(\"ERROR\")\n",
    "\"\"\"\n",
    "gcc.sumDataFrame(types=0) #結合方法 0ならarticulation\n",
    "dist = gcc.getSumDistanceMatrix(0)\n",
    "dist.to_csv('./SpecificCSVFiles/every_phoneme/similarity.csv', sep=',')"
   ]
  },
  {
   "cell_type": "code",
   "execution_count": null,
   "metadata": {
    "collapsed": true
   },
   "outputs": [],
   "source": [
    "fileList = glob.glob('./csvFileList/*.csv')\n",
    "filename = [(fileList[i].split(\"/\"))[-1] for i in range(len(fileList))]\n",
    "filename = [unicode(k, \"UTF-8\") for k in filename]\n",
    "with codecs.open(fileList[69], \"r\", \"Shift-JIS\", \"ignore\") as filer:\n",
    "    init = pd.read_table(filer, delimiter=\",\")\n",
    "\n",
    "#for k in range(len(fileList)):\n",
    "for k in range(0, 1):\n",
    "    gcc = gc.GenerateControler(fileList[99], \"./InputValueDB/母音入力数値一覧.csv\", \"./InputValueDB/子音入力数値一覧.csv\")\n",
    "    gcc.mainPreProccess()\n",
    "    try:\n",
    "        gcc.oneWordFrame(init, 0)#.to_csv('./SpecificCSVFiles/individual/' + filename[k], sep=',')\n",
    "    except Exception as e:\n",
    "        print(\"ERROR\")\n",
    "        continue"
   ]
  },
  {
   "cell_type": "code",
   "execution_count": null,
   "metadata": {
    "collapsed": true
   },
   "outputs": [],
   "source": [
    "def makeNexFile(df_path, nex_path, filename, index):\n",
    "    \"\"\"SplitTree作成のためのNexファイルを作成\"\"\"\n",
    "    if(os.path.exists(nex_path + filename + \".nex\") == True):\n",
    "        os.remove(nex_path + filename + \".nex\")\n",
    "    with codecs.open(nex_path + filename + \".nex\", mode = \"a\", encoding=\"UTF-8\") as file:\n",
    "            file.write(\"#nexus\\n\")\n",
    "            file.write(\"[!list1.txt]\\n\\n\")\n",
    "            file.write(\"BEGIN Taxa;\\n\")\n",
    "            file.write(\"DIMENSIONS ntax=\" + str(len(index))+ \";\\n\")\n",
    "            file.write(\"TAXLABELS\\n\")\n",
    "            for i in range(0, len(index)):\n",
    "                file.write(\"[\"+ str(i+1) +\"] \" + unicode(index[i], \"UTF-8\") + \"\\n\")\n",
    "                #file.write(\"[\"+ str(i+1) +\"] \" + index[i] + \"\\n\")\n",
    "\n",
    "            file.write(\";\\n\")\n",
    "            file.write(\"END; [Taxa]\\n\\n\")\n",
    "\n",
    "            file.write(\"BEGIN Distances;\\n\")\n",
    "            file.write(\"DIMENSIONS ntax=\" + str(len(index)) + \";\\n\")\n",
    "            file.write(\"FORMAT labels=left diagonal triangle=both;\\n\")\n",
    "            file.write(\"MATRIX\\n\")            \n",
    "            with codecs.open(df_path, \"r\", \"UTF-8\") as fl:\n",
    "                matrix = pd.read_table(fl, delimiter=\",\")\n",
    "            for k in range(0, len(matrix.iloc[0])-1):\n",
    "                writeLine = \"[\" + str(k) + \"]\" + \" \" + unicode(index[k], \"UTF-8\") + \"\\t\"\n",
    "                for i in range(1, len(matrix.iloc[0])):\n",
    "                    writeLine = writeLine +  \" \" + str(matrix.iloc[k][i])\n",
    "                file.write(writeLine + \"\\n\")\n",
    "            file.write(\";\\nend;\")"
   ]
  },
  {
   "cell_type": "code",
   "execution_count": null,
   "metadata": {},
   "outputs": [],
   "source": [
    "distance_file_list = glob.glob('./SpecificCSVFiles/every_phoneme/*.csv')\n",
    "filename = [(distance_file_list[i].split(\"/\"))[-1] for i in range(len(distance_file_list))]\n",
    "#filename = [unicode(k, \"UTF-8\") for k in filename]\n",
    "for df, name in zip(distance_file_list, filename):\n",
    "    print(\"{0}, {1}\".format(df, name))\n",
    "    with codecs.open(df, \"r\", \"UTF-8\") as fl:\n",
    "        mx = pd.read_table(fl, delimiter=\",\")\n",
    "    makeNexFile(df, \"./SpecificCSVFiles/Nexfile/\", name, mx.columns[1:len(mx.columns)])"
   ]
  },
  {
   "cell_type": "code",
   "execution_count": null,
   "metadata": {
    "collapsed": true
   },
   "outputs": [],
   "source": [
    "distance_file_list = glob.glob('./SpecificCSVFiles/individual/*.csv')\n",
    "filename = [(distance_file_list[i].split(\"/\"))[-1] for i in range(len(distance_file_list))]\n",
    "#filename = [unicode(k, \"UTF-8\") for k in filename]\n",
    "for df, name in zip(distance_file_list, filename):\n",
    "    print(\"{0}, {1}\".format(df, name))\n",
    "    with codecs.open(df, \"r\", \"UTF-8\") as fl:\n",
    "        mx = pd.read_table(fl, delimiter=\",\")\n",
    "    makeNexFile(df, \"./SpecificCSVFiles/Nexfile/\", name, mx.columns[1:len(mx.columns)])"
   ]
  },
  {
   "cell_type": "code",
   "execution_count": null,
   "metadata": {
    "collapsed": true,
    "scrolled": true
   },
   "outputs": [],
   "source": [
    "#NaNの削除と読み込みの際に付け加えられた\"Unnamed~\"を\"\"に置き換える\n",
    "import re\n",
    "#gcc.oneWordFrame(types=0)\n",
    "fileList = glob.glob('./csvFileList_pre/*.csv')\n",
    "filename = [(fileList[i].split(\"/\"))[-1] for i in range(len(fileList))]\n",
    "filename = [unicode(k, \"UTF-8\") for k in filename]\n",
    "filename\n",
    "\n",
    "for k in range(len(fileList)):\n",
    "    with codecs.open(fileList[k], \"r\", \"shift-JIS\", \"ignore\") as fl:\n",
    "        mx = pd.read_table(fl, delimiter=\",\")\n",
    "\n",
    "    mx = mx.replace(np.NaN, \"\")\n",
    "    mx.columns = [re.sub(\".*Unnamed.*\", \"\", i) for i in mx.columns]\n",
    "    mx.to_csv(\"./csvFileList/\" + filename[k], sep=',', index=False, encoding=\"Shift-JIS\")\n",
    "    print(filename[k])"
   ]
  },
  {
   "cell_type": "code",
   "execution_count": null,
   "metadata": {
    "collapsed": true
   },
   "outputs": [],
   "source": [
    "#\n",
    "#main\n",
    "#\n",
    "\n",
    "#データ整形\n",
    "origin_vec = map(list, gcc.bit_frame_list)\n",
    "origin_vec = map(np.array, origin_vec)\n",
    "\n",
    "#地点削減\n",
    "#remove_index = [1,3,5, 7, 9, 11, 13, 14, 16, 17, 23, 27, 29, 36, 38, 41, 45, 46, 48, 53, 55, 57, 60, 61, 63, 65, 72, 74, 76, 78, 80, 82, 84, 86, 87, 89, 90, 94]\n",
    "remove_index = [2,3,4,5,7, 8,9,10, 12, 13, 15, 16, 17, 21, 22, 24, 26, 27, 29,30, 31, 32, 33, 35, 37, 38, 39, 40, 42, 43, 44, 45, 46, 47, 48, 49, 51, 53, 54, 55, 56, 57, 59, 60, 61, 62, 63, 64, 67,68, 70, 71, 72, 73, 75, 76, 77, 78, 79, 80, 83, 84, 85,88, 89, 91, 92, 94]\n",
    "nv = copy.deepcopy(origin_vec)\n",
    "nv = np.delete(nv, remove_index, 0)\n",
    "name_list = np.delete(gcc.s_name_list, remove_index, 0)\n",
    "new_vec = np.array(nv)\n",
    "print(\"地点削減終了\")\n",
    "\n",
    "new_vec = del_n_index(copy.deepcopy(new_vec))\n",
    "new_vec = np.array(convert2float(new_vec))\n",
    "print(\"データ整形終了\")"
   ]
  },
  {
   "cell_type": "code",
   "execution_count": null,
   "metadata": {
    "collapsed": true
   },
   "outputs": [],
   "source": [
    "def hammingDistance(purpose, other):\n",
    "        \"\"\"目的の配列とそれ以外から各々のハミング距離の計算計算して配列に格納\"\"\"\n",
    "        purpose = list(purpose)\n",
    "        other = list(other)\n",
    "        str_length = len(purpose)\n",
    "        skip = 0\n",
    "        if str_length != len(other):\n",
    "            return 0\n",
    "        result_value = 0\n",
    "\n",
    "        for k in range(str_length):\n",
    "            if (\"?\" in purpose[k]) == True or (\"?\" in other[k]) == True or (\".\" in purpose[k]) == True or (\".\" in other[k]) == True:\n",
    "                skip += 1\n",
    "                continue\n",
    "            if purpose[k] != other[k]:\n",
    "                result_value += 1\n",
    "\n",
    "        if (str_length - skip) != 0:\n",
    "            result_value = float(result_value) / (str_length - skip)\n",
    "            return result_value\n",
    "        else:\n",
    "            return 0"
   ]
  },
  {
   "cell_type": "code",
   "execution_count": null,
   "metadata": {
    "collapsed": true
   },
   "outputs": [],
   "source": [
    "a = [\"hoge\", \"fuga\", \"piyo\"]\n",
    "b = [\"1\", \"2\", \"3\"]\n",
    "a = [\"\", \"\" , \"\"]\n",
    "[x + \" \" + y for x, y in zip(a, b)]"
   ]
  },
  {
   "cell_type": "code",
   "execution_count": null,
   "metadata": {
    "collapsed": true
   },
   "outputs": [],
   "source": [
    "[x + y for x, y in zip(a, b)]"
   ]
  },
  {
   "cell_type": "code",
   "execution_count": null,
   "metadata": {
    "collapsed": true
   },
   "outputs": [],
   "source": []
  }
 ],
 "metadata": {
  "kernelspec": {
   "display_name": "Python 2",
   "language": "python",
   "name": "python2"
  },
  "language_info": {
   "codemirror_mode": {
    "name": "ipython",
    "version": 2
   },
   "file_extension": ".py",
   "mimetype": "text/x-python",
   "name": "python",
   "nbconvert_exporter": "python",
   "pygments_lexer": "ipython2",
   "version": "2.7.13"
  }
 },
 "nbformat": 4,
 "nbformat_minor": 2
}
